{
 "cells": [
  {
   "cell_type": "code",
   "execution_count": 47,
   "id": "3c3b538d",
   "metadata": {
    "scrolled": true
   },
   "outputs": [
    {
     "name": "stdout",
     "output_type": "stream",
     "text": [
      "Done!\n"
     ]
    }
   ],
   "source": [
    "import cv2\n",
    "import numpy as np\n",
    "\n",
    "img = cv2.imread(\"/home/miguel_roldao/catkin_ws/scripts/imagens_mapa/mapa1.png\")\n",
    "\n",
    "img_s = img.copy()\n",
    "\n",
    "gray = cv2.cvtColor(img,cv2.COLOR_BGR2GRAY)\n",
    "edges = cv2.Canny(gray,50,150,apertureSize = 3)\n",
    "\n",
    "#y = np.loadtxt(\"/home/pedro/catkin_ws/scripts/coordinates/Y1.txt\")\n",
    "#x=np.loadtxt(\"/home/pedro/catkin_ws/scripts/coordinates/X1.txt\")\n",
    "\n",
    "#edges=[x,y]\n",
    "#print (edges)\n",
    "th = 120\n",
    "while th > 1:\n",
    "    th = th-1\n",
    "    copy_img = img_s.copy()\n",
    "\n",
    "    lines = cv2.HoughLines(edges,1,np.pi/180,th)\n",
    "    #linesP = cv.HoughLinesP(dst, 1, np.pi / 180, 50, None, 50, 10)\n",
    "\n",
    "    if lines is not None:\n",
    "        for i in range(len(lines)):\n",
    "            for rho,theta in lines[i]:\n",
    "                a = np.cos(theta)\n",
    "                b = np.sin(theta)\n",
    "                x0 = a*rho\n",
    "                y0 = b*rho\n",
    "                x1 = int(x0 + 1000*(-b))\n",
    "                y1 = int(y0 + 1000*(a))\n",
    "                x2 = int(x0 - 1000*(-b))\n",
    "                y2 = int(y0 - 1000*(a))\n",
    "\n",
    "                cv2.line(img,(x1,y1),(x2,y2),(0,0,255),2)\n",
    "                #print(\"here!\")\n",
    "                cv2.putText(img,\"threshold = \" + str(th),(30,30), \n",
    "                            cv2.FONT_HERSHEY_SIMPLEX,\n",
    "                            0.6,\n",
    "                            (255,0,0),\n",
    "                            1,\n",
    "                            cv2.LINE_AA)\n",
    "\n",
    "\n",
    "    cv2.imwrite(\"/home/miguel_roldao/catkin_ws/scripts/houghlines/houghlines_\"+str(120-th)+\".png\",img)\n",
    "    img = copy_img\n",
    "        \n",
    "print(\"Done!\")"
   ]
  },
  {
   "cell_type": "code",
   "execution_count": 15,
   "id": "9f5d7bc8",
   "metadata": {},
   "outputs": [
    {
     "name": "stdout",
     "output_type": "stream",
     "text": [
      "Hello\n"
     ]
    }
   ],
   "source": [
    "print(\"Hello\")"
   ]
  },
  {
   "cell_type": "code",
   "execution_count": 48,
   "id": "0a566735",
   "metadata": {},
   "outputs": [
    {
     "name": "stdout",
     "output_type": "stream",
     "text": [
      "Done!\n"
     ]
    }
   ],
   "source": [
    "img = cv2.imread(\"/home/miguel_roldao/catkin_ws/scripts/imagens_mapa/mapa1.png\")\n",
    "\n",
    "img_s = img.copy()\n",
    "\n",
    "gray = cv2.cvtColor(img,cv2.COLOR_BGR2GRAY)\n",
    "edges = cv2.Canny(gray,50,150,apertureSize = 3)\n",
    "\n",
    "#y = np.loadtxt(\"/home/pedro/catkin_ws/scripts/coordinates/Y1.txt\")\n",
    "#x=np.loadtxt(\"/home/pedro/catkin_ws/scripts/coordinates/X1.txt\")\n",
    "\n",
    "#edges=[x,y]\n",
    "#print (edges)\n",
    "th = 120\n",
    "while th > 1:\n",
    "    th = th-1\n",
    "    copy_img = img_s.copy()\n",
    "    \n",
    "    linesP = cv2.HoughLinesP(edges,1,np.pi/180,th,None,10,10)\n",
    "    \n",
    "    \n",
    "    #linesP = cv.HoughLinesP(dst, 1, np.pi / 180, 50, None, 50, 10)\n",
    "    if linesP is not None:\n",
    "        for i in range(0, len(linesP)):\n",
    "            l = linesP[i][0]\n",
    "            cv2.line(img, (l[0], l[1]), (l[2], l[3]), (0,0,255), 3, cv2.LINE_AA)\n",
    "            cv2.putText(img,\"threshold = \" + str(th),(30,30), \n",
    "                            cv2.FONT_HERSHEY_SIMPLEX,\n",
    "                            0.6,\n",
    "                            (255,0,0),\n",
    "                            1,\n",
    "                            cv2.LINE_AA)\n",
    "\n",
    "\n",
    "    cv2.imwrite(\"/home/miguel_roldao/catkin_ws/scripts/houghlines/houghlines_\"+str(120-th)+\".png\",img)\n",
    "    img = copy_img\n",
    "        \n",
    "print(\"Done!\")"
   ]
  },
  {
   "cell_type": "code",
   "execution_count": null,
   "id": "d96275b9",
   "metadata": {},
   "outputs": [],
   "source": []
  }
 ],
 "metadata": {
  "kernelspec": {
   "display_name": "Python 3 (ipykernel)",
   "language": "python",
   "name": "python3"
  },
  "language_info": {
   "codemirror_mode": {
    "name": "ipython",
    "version": 3
   },
   "file_extension": ".py",
   "mimetype": "text/x-python",
   "name": "python",
   "nbconvert_exporter": "python",
   "pygments_lexer": "ipython3",
   "version": "3.8.10"
  }
 },
 "nbformat": 4,
 "nbformat_minor": 5
}
